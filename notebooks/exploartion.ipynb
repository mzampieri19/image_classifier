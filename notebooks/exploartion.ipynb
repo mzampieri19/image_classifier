{
 "cells": [
  {
   "cell_type": "markdown",
   "metadata": {},
   "source": [
    "## Image Classfier \n",
    "\n",
    "### Author: Michelangelo Zampieri\n",
    "\n",
    "Data from kaggle [link](https://www.kaggle.com/datasets/mahmoudreda55/satellite-image-classification)"
   ]
  },
  {
   "cell_type": "code",
   "execution_count": 9,
   "metadata": {},
   "outputs": [],
   "source": [
    "import pandas as pd \n",
    "import numpy as np \n",
    "import matplotlib.pyplot as plt\n",
    "import tensorflow as tf\n",
    "import os\n",
    "import shutil\n",
    "from sklearn.model_selection import train_test_split\n"
   ]
  },
  {
   "cell_type": "code",
   "execution_count": 10,
   "metadata": {},
   "outputs": [],
   "source": [
    "data_dir = \"/Users/michelangelozampieri/Desktop/image_classifier/data\"\n",
    "output_dir = \"/Users/michelangelozampieri/Desktop/image_classifier/data_output\"\n",
    "\n",
    "train_dir = os.path.join(output_dir, \"train\")\n",
    "validation_dir = os.path.join(output_dir, \"validation\")\n",
    "test_dir = os.path.join(output_dir, \"test\")\n",
    "\n",
    "os.makedirs(train_dir, exist_ok=True)\n",
    "os.makedirs(validation_dir, exist_ok=True)\n",
    "os.makedirs(test_dir, exist_ok=True)\n",
    "\n",
    "classes = [\"cloudy\", \"desert\", \"green_area\", \"water\" ]\n"
   ]
  },
  {
   "cell_type": "code",
   "execution_count": 11,
   "metadata": {},
   "outputs": [],
   "source": [
    "for class_name in classes:\n",
    "    class_dir = os.path.join(data_dir, class_name)\n",
    "    images = os.listdir(class_dir)\n",
    "\n",
    "    train_val_images, test_images = train_test_split(images, test_size=0.15, random_state=42)\n",
    "    train_images, validation_images = train_test_split(train_val_images, test_size=0.1765, random_state=42)\n",
    "\n",
    "    os.makedirs(os.path.join(train_dir, class_name), exist_ok=True)\n",
    "    os.makedirs(os.path.join(validation_dir, class_name), exist_ok=True)\n",
    "    os.makedirs(os.path.join(test_dir, class_name), exist_ok=True)\n",
    "\n",
    "    for image in train_images:\n",
    "        shutil.copy(os.path.join(class_dir, image), os.path.join(train_dir, class_name, image))\n",
    "    for image in validation_images:\n",
    "        shutil.copy(os.path.join(class_dir, image), os.path.join(validation_dir, class_name, image))\n",
    "    for image in test_images:\n",
    "        shutil.copy(os.path.join(class_dir, image), os.path.join(test_dir, class_name, image))"
   ]
  },
  {
   "cell_type": "code",
   "execution_count": 13,
   "metadata": {},
   "outputs": [
    {
     "name": "stdout",
     "output_type": "stream",
     "text": [
      "Number of images in training directory:\n",
      "cloudy: 1221\n",
      "desert: 919\n",
      "green_area: 1221\n",
      "water: 1221\n",
      "Number of images in validation directory:\n",
      "cloudy: 300\n",
      "desert: 227\n",
      "green_area: 300\n",
      "water: 300\n",
      "Number of images in test directory:\n",
      "cloudy: 426\n",
      "desert: 313\n",
      "green_area: 426\n",
      "water: 426\n"
     ]
    }
   ],
   "source": [
    "print(\"Number of images in training directory:\")\n",
    "for class_name in classes:\n",
    "    print(f\"{class_name}: {len(os.listdir(os.path.join(train_dir, class_name)))}\")\n",
    "print(\"Number of images in validation directory:\")\n",
    "for class_name in classes:\n",
    "    print(f\"{class_name}: {len(os.listdir(os.path.join(test_dir, class_name)))}\")\n",
    "print(\"Number of images in test directory:\")\n",
    "for class_name in classes:\n",
    "    print(f\"{class_name}: {len(os.listdir(os.path.join(validation_dir, class_name)))}\")"
   ]
  },
  {
   "cell_type": "code",
   "execution_count": null,
   "metadata": {},
   "outputs": [],
   "source": []
  }
 ],
 "metadata": {
  "kernelspec": {
   "display_name": "base",
   "language": "python",
   "name": "python3"
  },
  "language_info": {
   "codemirror_mode": {
    "name": "ipython",
    "version": 3
   },
   "file_extension": ".py",
   "mimetype": "text/x-python",
   "name": "python",
   "nbconvert_exporter": "python",
   "pygments_lexer": "ipython3",
   "version": "3.12.4"
  }
 },
 "nbformat": 4,
 "nbformat_minor": 2
}
