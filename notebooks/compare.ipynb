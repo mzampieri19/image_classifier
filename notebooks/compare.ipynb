{
 "cells": [
  {
   "cell_type": "code",
   "execution_count": 27,
   "metadata": {},
   "outputs": [],
   "source": [
    "import os \n",
    "import tensorflow as tf\n",
    "import numpy as np\n",
    "import pandas as pd"
   ]
  },
  {
   "cell_type": "code",
   "execution_count": 28,
   "metadata": {},
   "outputs": [
    {
     "name": "stdout",
     "output_type": "stream",
     "text": [
      "Found 1127 files belonging to 4 classes.\n"
     ]
    }
   ],
   "source": [
    "test_dataset = tf.keras.utils.image_dataset_from_directory(\n",
    "    \"/Users/michelangelozampieri/Desktop/image_classifier/data_output/test\",\n",
    "    labels=\"inferred\",  \n",
    "    label_mode=\"categorical\",  \n",
    "    image_size=(150, 150)\n",
    ")"
   ]
  },
  {
   "cell_type": "code",
   "execution_count": 29,
   "metadata": {},
   "outputs": [],
   "source": [
    "model_results = []"
   ]
  },
  {
   "cell_type": "code",
   "execution_count": 30,
   "metadata": {},
   "outputs": [
    {
     "name": "stderr",
     "output_type": "stream",
     "text": [
      "WARNING:absl:Compiled the loaded model, but the compiled metrics have yet to be built. `model.compile_metrics` will be empty until you train or evaluate the model.\n"
     ]
    },
    {
     "name": "stdout",
     "output_type": "stream",
     "text": [
      "\u001b[1m36/36\u001b[0m \u001b[32m━━━━━━━━━━━━━━━━━━━━\u001b[0m\u001b[37m\u001b[0m \u001b[1m3s\u001b[0m 66ms/step - accuracy: 0.4355 - loss: 819.6755\n",
      "Test accuracy: 0.4090505838394165\n",
      "Test loss: 945.9619750976562\n"
     ]
    }
   ],
   "source": [
    "loaded_model = tf.keras.models.load_model(\"/Users/michelangelozampieri/Desktop/image_classifier/models/initial_from_scratch_model.h5\")\n",
    "test_loss, test_acc = loaded_model.evaluate(test_dataset)\n",
    "print(f\"Test accuracy: {test_acc}\")\n",
    "print(f\"Test loss: {test_loss}\")\n",
    "\n",
    "model_results.append({\"model\": \"initial_from_scratch_model\", \"test_accuracy\": test_acc, \"test_loss\": test_loss})"
   ]
  },
  {
   "cell_type": "code",
   "execution_count": 31,
   "metadata": {},
   "outputs": [
    {
     "name": "stderr",
     "output_type": "stream",
     "text": [
      "WARNING:absl:Compiled the loaded model, but the compiled metrics have yet to be built. `model.compile_metrics` will be empty until you train or evaluate the model.\n"
     ]
    },
    {
     "name": "stdout",
     "output_type": "stream",
     "text": [
      "\u001b[1m36/36\u001b[0m \u001b[32m━━━━━━━━━━━━━━━━━━━━\u001b[0m\u001b[37m\u001b[0m \u001b[1m2s\u001b[0m 62ms/step - accuracy: 0.4380 - loss: 1632.4662\n",
      "Test accuracy: 0.4427684247493744\n",
      "Test loss: 1716.85791015625\n"
     ]
    }
   ],
   "source": [
    "loaded_model = tf.keras.models.load_model(\"/Users/michelangelozampieri/Desktop/image_classifier/models/fine_tuned_from_scratch.h5\")\n",
    "test_loss, test_acc = loaded_model.evaluate(test_dataset)\n",
    "print(f\"Test accuracy: {test_acc}\")\n",
    "print(f\"Test loss: {test_loss}\")\n",
    "\n",
    "model_results.append({\"model\": \"fine_tuned_from_scratch_model\", \"test_accuracy\": test_acc, \"test_loss\": test_loss})"
   ]
  },
  {
   "cell_type": "code",
   "execution_count": 32,
   "metadata": {},
   "outputs": [
    {
     "name": "stderr",
     "output_type": "stream",
     "text": [
      "WARNING:absl:Compiled the loaded model, but the compiled metrics have yet to be built. `model.compile_metrics` will be empty until you train or evaluate the model.\n"
     ]
    },
    {
     "name": "stdout",
     "output_type": "stream",
     "text": [
      "\u001b[1m36/36\u001b[0m \u001b[32m━━━━━━━━━━━━━━━━━━━━\u001b[0m\u001b[37m\u001b[0m \u001b[1m2s\u001b[0m 62ms/step - accuracy: 0.7448 - loss: 2068.3870\n",
      "Test accuracy: 0.7116237878799438\n",
      "Test loss: 2324.843505859375\n"
     ]
    }
   ],
   "source": [
    "loaded_model = tf.keras.models.load_model(\"/Users/michelangelozampieri/Desktop/image_classifier/models/fine_tuned_from_scratch_v2.h5\")\n",
    "test_loss, test_acc = loaded_model.evaluate(test_dataset)\n",
    "print(f\"Test accuracy: {test_acc}\")\n",
    "print(f\"Test loss: {test_loss}\")\n",
    "\n",
    "model_results.append({\"model\": \"fine_tuned_from_scratch_model_v2\", \"test_accuracy\": test_acc, \"test_loss\": test_loss})"
   ]
  },
  {
   "cell_type": "code",
   "execution_count": 33,
   "metadata": {},
   "outputs": [
    {
     "name": "stderr",
     "output_type": "stream",
     "text": [
      "WARNING:absl:Compiled the loaded model, but the compiled metrics have yet to be built. `model.compile_metrics` will be empty until you train or evaluate the model.\n"
     ]
    },
    {
     "name": "stdout",
     "output_type": "stream",
     "text": [
      "\u001b[1m36/36\u001b[0m \u001b[32m━━━━━━━━━━━━━━━━━━━━\u001b[0m\u001b[37m\u001b[0m \u001b[1m2s\u001b[0m 60ms/step - accuracy: 0.4221 - loss: 70.7630\n",
      "Test accuracy: 0.414374440908432\n",
      "Test loss: 79.25607299804688\n"
     ]
    }
   ],
   "source": [
    "loaded_model = tf.keras.models.load_model(\"/Users/michelangelozampieri/Desktop/image_classifier/models/initial_from_scratch_model_v2.h5\")\n",
    "test_loss, test_acc = loaded_model.evaluate(test_dataset)\n",
    "print(f\"Test accuracy: {test_acc}\")\n",
    "print(f\"Test loss: {test_loss}\")\n",
    "\n",
    "model_results.append({\"model\": \"initial_from_scratch_model_v2\", \"test_accuracy\": test_acc, \"test_loss\": test_loss})"
   ]
  },
  {
   "cell_type": "code",
   "execution_count": 34,
   "metadata": {},
   "outputs": [
    {
     "name": "stderr",
     "output_type": "stream",
     "text": [
      "WARNING:absl:Compiled the loaded model, but the compiled metrics have yet to be built. `model.compile_metrics` will be empty until you train or evaluate the model.\n"
     ]
    },
    {
     "name": "stdout",
     "output_type": "stream",
     "text": [
      "\u001b[1m36/36\u001b[0m \u001b[32m━━━━━━━━━━━━━━━━━━━━\u001b[0m\u001b[37m\u001b[0m \u001b[1m7s\u001b[0m 159ms/step - accuracy: 0.0134 - loss: 94.4947\n",
      "Test accuracy: 0.012422360479831696\n",
      "Test loss: 97.84357452392578\n"
     ]
    }
   ],
   "source": [
    "loaded_model = tf.keras.models.load_model(\"/Users/michelangelozampieri/Desktop/image_classifier/models/efficienetb0_base_model.h5\")\n",
    "test_loss, test_acc = loaded_model.evaluate(test_dataset)\n",
    "print(f\"Test accuracy: {test_acc}\")\n",
    "print(f\"Test loss: {test_loss}\")\n",
    "\n",
    "model_results.append({\"model\": \"efficienetb0_base_model\", \"test_accuracy\": test_acc, \"test_loss\": test_loss})"
   ]
  },
  {
   "cell_type": "code",
   "execution_count": 35,
   "metadata": {},
   "outputs": [
    {
     "name": "stderr",
     "output_type": "stream",
     "text": [
      "WARNING:absl:Compiled the loaded model, but the compiled metrics have yet to be built. `model.compile_metrics` will be empty until you train or evaluate the model.\n"
     ]
    },
    {
     "name": "stdout",
     "output_type": "stream",
     "text": [
      "\u001b[1m36/36\u001b[0m \u001b[32m━━━━━━━━━━━━━━━━━━━━\u001b[0m\u001b[37m\u001b[0m \u001b[1m7s\u001b[0m 163ms/step - accuracy: 0.0061 - loss: 103.6992\n",
      "Test accuracy: 0.00709849176928401\n",
      "Test loss: 106.23869323730469\n"
     ]
    }
   ],
   "source": [
    "loaded_model = tf.keras.models.load_model(\"/Users/michelangelozampieri/Desktop/image_classifier/models/fine_tuned_efficientnetb0.h5\")\n",
    "test_loss, test_acc = loaded_model.evaluate(test_dataset)\n",
    "print(f\"Test accuracy: {test_acc}\")\n",
    "print(f\"Test loss: {test_loss}\")\n",
    "\n",
    "model_results.append({\"model\": \"fine_tuned_efficientnetb0\", \"test_accuracy\": test_acc, \"test_loss\": test_loss})"
   ]
  },
  {
   "cell_type": "code",
   "execution_count": 36,
   "metadata": {},
   "outputs": [
    {
     "name": "stderr",
     "output_type": "stream",
     "text": [
      "WARNING:absl:Compiled the loaded model, but the compiled metrics have yet to be built. `model.compile_metrics` will be empty until you train or evaluate the model.\n"
     ]
    },
    {
     "name": "stdout",
     "output_type": "stream",
     "text": [
      "\u001b[1m36/36\u001b[0m \u001b[32m━━━━━━━━━━━━━━━━━━━━\u001b[0m\u001b[37m\u001b[0m \u001b[1m16s\u001b[0m 395ms/step - accuracy: 0.0957 - loss: 1.4499\n",
      "Test accuracy: 0.10825199633836746\n",
      "Test loss: 1.4452948570251465\n"
     ]
    }
   ],
   "source": [
    "loaded_model = tf.keras.models.load_model(\"/Users/michelangelozampieri/Desktop/image_classifier/models/resnet50_base_model.h5\")\n",
    "test_loss, test_acc = loaded_model.evaluate(test_dataset)\n",
    "print(f\"Test accuracy: {test_acc}\")\n",
    "print(f\"Test loss: {test_loss}\")\n",
    "\n",
    "model_results.append({\"model\": \"resnet50_base_model\", \"test_accuracy\": test_acc, \"test_loss\": test_loss})"
   ]
  },
  {
   "cell_type": "code",
   "execution_count": 37,
   "metadata": {},
   "outputs": [
    {
     "name": "stdout",
     "output_type": "stream",
     "text": [
      "                              model  test_accuracy    test_loss\n",
      "2  fine_tuned_from_scratch_model_v2       0.711624  2324.843506\n",
      "1     fine_tuned_from_scratch_model       0.442768  1716.857910\n",
      "3     initial_from_scratch_model_v2       0.414374    79.256073\n",
      "0        initial_from_scratch_model       0.409051   945.961975\n",
      "6               resnet50_base_model       0.108252     1.445295\n",
      "4           efficienetb0_base_model       0.012422    97.843575\n",
      "5         fine_tuned_efficientnetb0       0.007098   106.238693\n"
     ]
    }
   ],
   "source": [
    "model_results = pd.DataFrame(model_results)\n",
    "model_results.sort_values(\"test_accuracy\", ascending=False, inplace=True)\n",
    "print(model_results)"
   ]
  },
  {
   "cell_type": "code",
   "execution_count": 38,
   "metadata": {},
   "outputs": [],
   "source": [
    "model_results.to_csv(\"/Users/michelangelozampieri/Desktop/image_classifier/model_results.csv\", index=False)"
   ]
  },
  {
   "cell_type": "code",
   "execution_count": null,
   "metadata": {},
   "outputs": [],
   "source": []
  }
 ],
 "metadata": {
  "kernelspec": {
   "display_name": "base",
   "language": "python",
   "name": "python3"
  },
  "language_info": {
   "codemirror_mode": {
    "name": "ipython",
    "version": 3
   },
   "file_extension": ".py",
   "mimetype": "text/x-python",
   "name": "python",
   "nbconvert_exporter": "python",
   "pygments_lexer": "ipython3",
   "version": "3.12.4"
  }
 },
 "nbformat": 4,
 "nbformat_minor": 2
}
